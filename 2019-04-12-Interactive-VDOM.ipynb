{
 "cells": [
  {
   "cell_type": "markdown",
   "metadata": {},
   "source": [
    "# Event handling in vdom"
   ]
  },
  {
   "cell_type": "markdown",
   "metadata": {},
   "source": [
    "vdom now supports event handling. You can pass Python functions as event handlers to any vdom object."
   ]
  },
  {
   "cell_type": "code",
   "execution_count": 1,
   "metadata": {},
   "outputs": [
    {
     "data": {
      "application/vdom.v1+json": {
       "attributes": {},
       "children": [
        "5"
       ],
       "eventHandlers": {
        "onClick": "-9223372036579428058_onClick"
       },
       "tagName": "button"
      },
      "text/html": [
       "<button>5</button>"
      ],
      "text/plain": [
       "<button>5</button>"
      ]
     },
     "metadata": {},
     "output_type": "display_data"
    }
   ],
   "source": [
    "from vdom import button\n",
    "\n",
    "count = 1\n",
    "\n",
    "def handle_click(event):\n",
    "    global count\n",
    "    count += 1\n",
    "    counter.update(render_counter())\n",
    "\n",
    "def render_counter():\n",
    "    return button(str(count), onClick=handle_click)\n",
    "\n",
    "counter = display(render_counter(), display_id=True)\n",
    "\n",
    "counter;"
   ]
  },
  {
   "cell_type": "markdown",
   "metadata": {},
   "source": [
    "See [events.ipynb](events.ipynb) for an interactive demo of all the supported event types and the [docs](https://github.com/nteract/vdom/blob/master/docs/event-spec.md) for details about the spec, implementation, and event objects reference."
   ]
  },
  {
   "cell_type": "markdown",
   "metadata": {},
   "source": [
    "# React components in vdom"
   ]
  },
  {
   "cell_type": "markdown",
   "metadata": {},
   "source": [
    "Additionally, support for React components (in addition to native HTML elements) _may_ be coming to vdom. The proposal introduces an `import` property that expects a `package` (the npm package name) and optional `module` (the _named import_ from that package, defaults to `default`)."
   ]
  },
  {
   "cell_type": "code",
   "execution_count": 3,
   "metadata": {},
   "outputs": [
    {
     "data": {
      "application/vdom.v1+json": {
       "attributes": {},
       "children": [
        "click me"
       ],
       "import": {
        "module": "Button",
        "package": "@blueprintjs/core"
       },
       "tagName": "Button"
      }
     },
     "metadata": {},
     "output_type": "display_data"
    }
   ],
   "source": [
    "from IPython.display import HTML, display\n",
    "\n",
    "display({\n",
    "    'application/vdom.v1+json': {\n",
    "        'tagName': 'Button', \n",
    "        'attributes': {}, \n",
    "        'children': ['click me'],\n",
    "        'import': {\n",
    "            'package': '@blueprintjs/core',\n",
    "            'module': 'Button'\n",
    "        }\n",
    "    }\n",
    "}, raw=True)"
   ]
  },
  {
   "cell_type": "markdown",
   "metadata": {},
   "source": [
    "We can create an `import_component` function to improve things significantly. See [vdom_extras.py](./vdom_extras.py) for details."
   ]
  },
  {
   "cell_type": "code",
   "execution_count": 4,
   "metadata": {},
   "outputs": [
    {
     "data": {
      "application/vdom.v1+json": {
       "attributes": {},
       "children": [
        "click me"
       ],
       "import": {
        "module": "Button",
        "package": "@blueprintjs/core"
       },
       "tagName": "div"
      },
      "text/html": [
       "<div>click me</div>"
      ],
      "text/plain": [
       "<div>click me</div>"
      ]
     },
     "execution_count": 4,
     "metadata": {},
     "output_type": "execute_result"
    }
   ],
   "source": [
    "from vdom_extras import import_component\n",
    "\n",
    "Button = import_component('@blueprintjs/core', 'Button')\n",
    "\n",
    "Button('click me')"
   ]
  },
  {
   "cell_type": "markdown",
   "metadata": {},
   "source": [
    "See the [vdom spec](https://github.com/nteract/vdom/blob/master/docs/mimetype-spec.md) for more about the spec."
   ]
  },
  {
   "cell_type": "markdown",
   "metadata": {},
   "source": [
    "## Background and context"
   ]
  },
  {
   "cell_type": "markdown",
   "metadata": {},
   "source": [
    "[vdom](https://github.com/nteract/vdom/) is a Python library for expressing UI (user interface) using _[virtual dom](https://reactjs.org/docs/faq-internals.html#what-is-the-virtual-dom)_, a concept popularized by Javascript libraries such as [React](https://reactjs.org/). \n",
    "\n",
    "vdom is designed to improve the experience of rendering custom UI within the context of a Jupyter notebook and is currently supported in [JupyterLab](https://github.com/jupyterlab/jupyterlab) and [nteract](https://github.com/nteract/nteract)."
   ]
  },
  {
   "cell_type": "markdown",
   "metadata": {},
   "source": [
    "### A simple example\n",
    "\n",
    "The following is an example of how to render some simple UI using vdom:"
   ]
  },
  {
   "cell_type": "code",
   "execution_count": 30,
   "metadata": {},
   "outputs": [
    {
     "data": {
      "application/vdom.v1+json": {
       "attributes": {},
       "children": [
        {
         "attributes": {},
         "children": [
          "A Header"
         ],
         "tagName": "h1"
        },
        {
         "attributes": {},
         "children": [
          "A list of numbers"
         ],
         "tagName": "p"
        },
        {
         "attributes": {},
         "children": [
          {
           "attributes": {},
           "children": [
            "0"
           ],
           "tagName": "li"
          },
          {
           "attributes": {},
           "children": [
            "1"
           ],
           "tagName": "li"
          },
          {
           "attributes": {},
           "children": [
            "2"
           ],
           "tagName": "li"
          },
          {
           "attributes": {},
           "children": [
            "3"
           ],
           "tagName": "li"
          },
          {
           "attributes": {},
           "children": [
            "4"
           ],
           "tagName": "li"
          },
          {
           "attributes": {},
           "children": [
            "5"
           ],
           "tagName": "li"
          },
          {
           "attributes": {},
           "children": [
            "6"
           ],
           "tagName": "li"
          },
          {
           "attributes": {},
           "children": [
            "7"
           ],
           "tagName": "li"
          },
          {
           "attributes": {},
           "children": [
            "8"
           ],
           "tagName": "li"
          },
          {
           "attributes": {},
           "children": [
            "9"
           ],
           "tagName": "li"
          }
         ],
         "tagName": "ul"
        }
       ],
       "tagName": "div"
      },
      "text/html": [
       "<div><h1>A Header</h1><p>A list of numbers</p><ul><li>0</li><li>1</li><li>2</li><li>3</li><li>4</li><li>5</li><li>6</li><li>7</li><li>8</li><li>9</li></ul></div>"
      ],
      "text/plain": [
       "<div><h1>A Header</h1><p>A list of numbers</p><ul><li>0</li><li>1</li><li>2</li><li>3</li><li>4</li><li>5</li><li>6</li><li>7</li><li>8</li><li>9</li></ul></div>"
      ]
     },
     "execution_count": 30,
     "metadata": {},
     "output_type": "execute_result"
    }
   ],
   "source": [
    "from vdom import div, h1, p, ul, li\n",
    "\n",
    "div(\n",
    "    h1('A Header'),\n",
    "    p('A list of numbers'),\n",
    "    ul([li(str(num)) for num in range(10)])\n",
    ")"
   ]
  },
  {
   "cell_type": "markdown",
   "metadata": {},
   "source": [
    "*Notice how the `li` elements are dynamically generated using a Python list comprehension expression.*\n",
    "\n",
    "To fully appreciate vdom, we must understand how we accomplished the same results before vdom. The following is an example that uses ipython's `HTML` display function."
   ]
  },
  {
   "cell_type": "code",
   "execution_count": 31,
   "metadata": {},
   "outputs": [
    {
     "data": {
      "text/html": [
       "<div>\n",
       "<h1>A Header</h1>\n",
       "<p>A list of random numbers</p>\n",
       "<ul><li>0</li><li>1</li><li>2</li><li>3</li><li>4</li><li>5</li><li>6</li><li>7</li><li>8</li><li>9</li></ul>\n",
       "</div>"
      ],
      "text/plain": [
       "<IPython.core.display.HTML object>"
      ]
     },
     "execution_count": 31,
     "metadata": {},
     "output_type": "execute_result"
    }
   ],
   "source": [
    "from IPython.display import HTML\n",
    "\n",
    "items = [f'<li>{num}</li>' for num in range(10)]\n",
    "\n",
    "HTML(f'''<div>\n",
    "<h1>A Header</h1>\n",
    "<p>A list of random numbers</p>\n",
    "<ul>{''.join(items)}</ul>\n",
    "</div>''')"
   ]
  },
  {
   "cell_type": "markdown",
   "metadata": {},
   "source": [
    "The above works but take a moment to ponder the differences...\n",
    "\n",
    "In the vdom example, we use Python functions (vdom's helper functions) such as `div` and `h1` to construct a *virtual DOM tree*. In the HTML example, we construct a string of HTML markup. Not only is the vdom example more Pythonic, but it has many advantages."
   ]
  },
  {
   "cell_type": "markdown",
   "metadata": {},
   "source": [
    "### Advantages of vdom\n",
    "\n",
    "Using vdom is like using React or other virtual dom Javascript libraries in Python. As a result, it has many of the advantages that React has over plain HTML:\n",
    "\n",
    "- **Dynamic:** In the HTML example, we are simply constructing static HTML markup in Python. In the vdom example, we are creating live vdom objects (or *components*) that are interactive and updatable.\n",
    "- **Interactive:** Using the HTML function, the only way to handle events such as clicks and keys is to inline Javascript in our static HTML markup. Using vdom, we can use Python functions to handle events by simply passing them as attributes to the component (e.g. `button('click me', onClick=lambda _: print('clicked'))`).\n",
    "- **Stateful:** Using the HTML function, it would be very difficult to update the UI in response to a state change in Python and it would be impossible to update the state in Python in response to an event on the front-end (this requires communication between the front-end and kernel). Using vdom, it's straight-forward to both update the UI in response to a state change in Python and update the state in Python in response to an event on the front-end (see the [Interactive and stateful example](https://www.notion.so/Introducing-module-support-to-vdom-5ddc063236d6409db1be41da3f1af582#89f889f8962a4562979d71912e88b1fd) below)."
   ]
  },
  {
   "cell_type": "markdown",
   "metadata": {},
   "source": [
    "### Interactive and stateful example\n",
    "\n",
    "The following is an example of how to add interactivity and state to a vdom component:"
   ]
  },
  {
   "cell_type": "code",
   "execution_count": 32,
   "metadata": {},
   "outputs": [
    {
     "data": {
      "application/vdom.v1+json": {
       "attributes": {},
       "children": [
        "3"
       ],
       "eventHandlers": {
        "onClick": "277392106_onClick"
       },
       "tagName": "button"
      },
      "text/html": [
       "<button>3</button>"
      ],
      "text/plain": [
       "<button>3</button>"
      ]
     },
     "metadata": {},
     "output_type": "display_data"
    }
   ],
   "source": [
    "from vdom import button\n",
    "from IPython.display import display\n",
    "\n",
    "# The state of the counter\n",
    "count = 1\n",
    "\n",
    "# The click handler\n",
    "def handle_click(event):\n",
    "    # Increment the count\n",
    "    global count\n",
    "    count += 1\n",
    "    # Use ipython's update_display to update the display\n",
    "    counter.update(render_counter())\n",
    "\n",
    "# Create a render function that will render the counter initially and when updating\n",
    "def render_counter():\n",
    "    return button(str(count), onClick=handle_click)\n",
    "\n",
    "# Create a display handle that we can reference to update the output\n",
    "counter = display(render_counter(), display_id=True)\n",
    "\n",
    "# Return the display handle and render the counter\n",
    "counter;"
   ]
  },
  {
   "cell_type": "markdown",
   "metadata": {},
   "source": [
    "One great thing about React is its focus on *components*. A React component contains all the markup for a unit of UI (e.g. a drop-down box) in addition to any event handlers, local state, and/or local methods. This makes React components *composable* meaning that they can be easily dropped into a component tree and if given the required *props* (or properties), just work! We can turn this counter example into a React-like component so that it can be easily reused in other contexts.\n",
    "\n",
    "First, we will create a base class that components and subclass or inherit from. This will implement React-like props and state, a render function that will be overridden, and an `_ipython_display_` method that will inform ipython about how to display this object."
   ]
  },
  {
   "cell_type": "code",
   "execution_count": 15,
   "metadata": {},
   "outputs": [
    {
     "data": {
      "application/vdom.v1+json": {
       "attributes": {},
       "children": [
        "0"
       ],
       "eventHandlers": {
        "onClick": "-9223372036854649617_onClick"
       },
       "tagName": "button"
      },
      "text/html": [
       "<button>0</button>"
      ],
      "text/plain": [
       "<button>0</button>"
      ]
     },
     "metadata": {},
     "output_type": "display_data"
    }
   ],
   "source": [
    "from vdom import button\n",
    "from IPython.display import display\n",
    "from vdom_extras import BaseComponent\n",
    "\n",
    "# Create a counter component with local state and event handler\n",
    "class Counter(BaseComponent):\n",
    "    def __init__(self, **props):\n",
    "        # Initialize the BaseComponent\n",
    "        super().__init__(**props)\n",
    "        # Set the initial component state\n",
    "        self.state = {'count': 0}\n",
    "        \n",
    "    def handle_click(self, event):\n",
    "        # Increment the count value in the component state\n",
    "        self.set_state({'count': self.state['count'] + 1})\n",
    "        \n",
    "    def render(self):\n",
    "        # Render a button that displays the count value and increments the count on click\n",
    "        return button(str(self.state['count']), onClick=self.handle_click)\n",
    "    \n",
    "Counter()"
   ]
  },
  {
   "cell_type": "markdown",
   "metadata": {},
   "source": [
    "We've successfully created an interactive and stateful vdom component that can be used like any other vdom component."
   ]
  },
  {
   "cell_type": "code",
   "execution_count": 6,
   "metadata": {},
   "outputs": [
    {
     "ename": "AttributeError",
     "evalue": "'Counter' object has no attribute '_repr_html_'",
     "output_type": "error",
     "traceback": [
      "\u001b[0;31m---------------------------------------------------------------------------\u001b[0m",
      "\u001b[0;31mAttributeError\u001b[0m                            Traceback (most recent call last)",
      "\u001b[0;32m~/anaconda/lib/python3.6/site-packages/IPython/core/formatters.py\u001b[0m in \u001b[0;36m__call__\u001b[0;34m(self, obj, include, exclude)\u001b[0m\n\u001b[1;32m    968\u001b[0m \u001b[0;34m\u001b[0m\u001b[0m\n\u001b[1;32m    969\u001b[0m             \u001b[0;32mif\u001b[0m \u001b[0mmethod\u001b[0m \u001b[0;32mis\u001b[0m \u001b[0;32mnot\u001b[0m \u001b[0;32mNone\u001b[0m\u001b[0;34m:\u001b[0m\u001b[0;34m\u001b[0m\u001b[0;34m\u001b[0m\u001b[0m\n\u001b[0;32m--> 970\u001b[0;31m                 \u001b[0;32mreturn\u001b[0m \u001b[0mmethod\u001b[0m\u001b[0;34m(\u001b[0m\u001b[0minclude\u001b[0m\u001b[0;34m=\u001b[0m\u001b[0minclude\u001b[0m\u001b[0;34m,\u001b[0m \u001b[0mexclude\u001b[0m\u001b[0;34m=\u001b[0m\u001b[0mexclude\u001b[0m\u001b[0;34m)\u001b[0m\u001b[0;34m\u001b[0m\u001b[0;34m\u001b[0m\u001b[0m\n\u001b[0m\u001b[1;32m    971\u001b[0m             \u001b[0;32mreturn\u001b[0m \u001b[0;32mNone\u001b[0m\u001b[0;34m\u001b[0m\u001b[0;34m\u001b[0m\u001b[0m\n\u001b[1;32m    972\u001b[0m         \u001b[0;32melse\u001b[0m\u001b[0;34m:\u001b[0m\u001b[0;34m\u001b[0m\u001b[0;34m\u001b[0m\u001b[0m\n",
      "\u001b[0;32m~/Sites/jupyter/vdom/vdom/core.py\u001b[0m in \u001b[0;36m_repr_mimebundle_\u001b[0;34m(self, include, exclude, **kwargs)\u001b[0m\n\u001b[1;32m    249\u001b[0m \u001b[0;34m\u001b[0m\u001b[0m\n\u001b[1;32m    250\u001b[0m     \u001b[0;32mdef\u001b[0m \u001b[0m_repr_mimebundle_\u001b[0m\u001b[0;34m(\u001b[0m\u001b[0mself\u001b[0m\u001b[0;34m,\u001b[0m \u001b[0minclude\u001b[0m\u001b[0;34m,\u001b[0m \u001b[0mexclude\u001b[0m\u001b[0;34m,\u001b[0m \u001b[0;34m**\u001b[0m\u001b[0mkwargs\u001b[0m\u001b[0;34m)\u001b[0m\u001b[0;34m:\u001b[0m\u001b[0;34m\u001b[0m\u001b[0;34m\u001b[0m\u001b[0m\n\u001b[0;32m--> 251\u001b[0;31m         \u001b[0;32mreturn\u001b[0m \u001b[0;34m{\u001b[0m\u001b[0;34m'application/vdom.v1+json'\u001b[0m\u001b[0;34m:\u001b[0m \u001b[0mself\u001b[0m\u001b[0;34m.\u001b[0m\u001b[0mto_dict\u001b[0m\u001b[0;34m(\u001b[0m\u001b[0;34m)\u001b[0m\u001b[0;34m,\u001b[0m \u001b[0;34m'text/plain'\u001b[0m\u001b[0;34m:\u001b[0m \u001b[0mself\u001b[0m\u001b[0;34m.\u001b[0m\u001b[0mto_html\u001b[0m\u001b[0;34m(\u001b[0m\u001b[0;34m)\u001b[0m\u001b[0;34m}\u001b[0m\u001b[0;34m\u001b[0m\u001b[0;34m\u001b[0m\u001b[0m\n\u001b[0m\u001b[1;32m    252\u001b[0m \u001b[0;34m\u001b[0m\u001b[0m\n\u001b[1;32m    253\u001b[0m     \u001b[0;34m@\u001b[0m\u001b[0mclassmethod\u001b[0m\u001b[0;34m\u001b[0m\u001b[0;34m\u001b[0m\u001b[0m\n",
      "\u001b[0;32m~/Sites/jupyter/vdom/vdom/core.py\u001b[0m in \u001b[0;36mto_html\u001b[0;34m(self)\u001b[0m\n\u001b[1;32m    205\u001b[0m \u001b[0;34m\u001b[0m\u001b[0m\n\u001b[1;32m    206\u001b[0m     \u001b[0;32mdef\u001b[0m \u001b[0mto_html\u001b[0m\u001b[0;34m(\u001b[0m\u001b[0mself\u001b[0m\u001b[0;34m)\u001b[0m\u001b[0;34m:\u001b[0m\u001b[0;34m\u001b[0m\u001b[0;34m\u001b[0m\u001b[0m\n\u001b[0;32m--> 207\u001b[0;31m         \u001b[0;32mreturn\u001b[0m \u001b[0mself\u001b[0m\u001b[0;34m.\u001b[0m\u001b[0m_repr_html_\u001b[0m\u001b[0;34m(\u001b[0m\u001b[0;34m)\u001b[0m\u001b[0;34m\u001b[0m\u001b[0;34m\u001b[0m\u001b[0m\n\u001b[0m\u001b[1;32m    208\u001b[0m \u001b[0;34m\u001b[0m\u001b[0m\n\u001b[1;32m    209\u001b[0m     \u001b[0;32mdef\u001b[0m \u001b[0mjson_contents\u001b[0m\u001b[0;34m(\u001b[0m\u001b[0mself\u001b[0m\u001b[0;34m)\u001b[0m\u001b[0;34m:\u001b[0m\u001b[0;34m\u001b[0m\u001b[0;34m\u001b[0m\u001b[0m\n",
      "\u001b[0;32m~/Sites/jupyter/vdom/vdom/core.py\u001b[0m in \u001b[0;36m_repr_html_\u001b[0;34m(self)\u001b[0m\n\u001b[1;32m    242\u001b[0m                     \u001b[0mout\u001b[0m\u001b[0;34m.\u001b[0m\u001b[0mwrite\u001b[0m\u001b[0;34m(\u001b[0m\u001b[0mescape\u001b[0m\u001b[0;34m(\u001b[0m\u001b[0msafe_unicode\u001b[0m\u001b[0;34m(\u001b[0m\u001b[0mc\u001b[0m\u001b[0;34m)\u001b[0m\u001b[0;34m)\u001b[0m\u001b[0;34m)\u001b[0m\u001b[0;34m\u001b[0m\u001b[0;34m\u001b[0m\u001b[0m\n\u001b[1;32m    243\u001b[0m                 \u001b[0;32melse\u001b[0m\u001b[0;34m:\u001b[0m\u001b[0;34m\u001b[0m\u001b[0;34m\u001b[0m\u001b[0m\n\u001b[0;32m--> 244\u001b[0;31m                     \u001b[0mout\u001b[0m\u001b[0;34m.\u001b[0m\u001b[0mwrite\u001b[0m\u001b[0;34m(\u001b[0m\u001b[0mc\u001b[0m\u001b[0;34m.\u001b[0m\u001b[0m_repr_html_\u001b[0m\u001b[0;34m(\u001b[0m\u001b[0;34m)\u001b[0m\u001b[0;34m)\u001b[0m\u001b[0;34m\u001b[0m\u001b[0;34m\u001b[0m\u001b[0m\n\u001b[0m\u001b[1;32m    245\u001b[0m \u001b[0;34m\u001b[0m\u001b[0m\n\u001b[1;32m    246\u001b[0m             \u001b[0mout\u001b[0m\u001b[0;34m.\u001b[0m\u001b[0mwrite\u001b[0m\u001b[0;34m(\u001b[0m\u001b[0;34m'</{tag}>'\u001b[0m\u001b[0;34m.\u001b[0m\u001b[0mformat\u001b[0m\u001b[0;34m(\u001b[0m\u001b[0mtag\u001b[0m\u001b[0;34m=\u001b[0m\u001b[0mescape\u001b[0m\u001b[0;34m(\u001b[0m\u001b[0mself\u001b[0m\u001b[0;34m.\u001b[0m\u001b[0mtag_name\u001b[0m\u001b[0;34m)\u001b[0m\u001b[0;34m)\u001b[0m\u001b[0;34m)\u001b[0m\u001b[0;34m\u001b[0m\u001b[0;34m\u001b[0m\u001b[0m\n",
      "\u001b[0;31mAttributeError\u001b[0m: 'Counter' object has no attribute '_repr_html_'"
     ]
    },
    {
     "ename": "AttributeError",
     "evalue": "'Counter' object has no attribute '_repr_html_'",
     "output_type": "error",
     "traceback": [
      "\u001b[0;31m---------------------------------------------------------------------------\u001b[0m",
      "\u001b[0;31mAttributeError\u001b[0m                            Traceback (most recent call last)",
      "\u001b[0;32m~/anaconda/lib/python3.6/site-packages/IPython/core/formatters.py\u001b[0m in \u001b[0;36m__call__\u001b[0;34m(self, obj)\u001b[0m\n\u001b[1;32m    343\u001b[0m             \u001b[0mmethod\u001b[0m \u001b[0;34m=\u001b[0m \u001b[0mget_real_method\u001b[0m\u001b[0;34m(\u001b[0m\u001b[0mobj\u001b[0m\u001b[0;34m,\u001b[0m \u001b[0mself\u001b[0m\u001b[0;34m.\u001b[0m\u001b[0mprint_method\u001b[0m\u001b[0;34m)\u001b[0m\u001b[0;34m\u001b[0m\u001b[0;34m\u001b[0m\u001b[0m\n\u001b[1;32m    344\u001b[0m             \u001b[0;32mif\u001b[0m \u001b[0mmethod\u001b[0m \u001b[0;32mis\u001b[0m \u001b[0;32mnot\u001b[0m \u001b[0;32mNone\u001b[0m\u001b[0;34m:\u001b[0m\u001b[0;34m\u001b[0m\u001b[0;34m\u001b[0m\u001b[0m\n\u001b[0;32m--> 345\u001b[0;31m                 \u001b[0;32mreturn\u001b[0m \u001b[0mmethod\u001b[0m\u001b[0;34m(\u001b[0m\u001b[0;34m)\u001b[0m\u001b[0;34m\u001b[0m\u001b[0;34m\u001b[0m\u001b[0m\n\u001b[0m\u001b[1;32m    346\u001b[0m             \u001b[0;32mreturn\u001b[0m \u001b[0;32mNone\u001b[0m\u001b[0;34m\u001b[0m\u001b[0;34m\u001b[0m\u001b[0m\n\u001b[1;32m    347\u001b[0m         \u001b[0;32melse\u001b[0m\u001b[0;34m:\u001b[0m\u001b[0;34m\u001b[0m\u001b[0;34m\u001b[0m\u001b[0m\n",
      "\u001b[0;32m~/Sites/jupyter/vdom/vdom/core.py\u001b[0m in \u001b[0;36m_repr_html_\u001b[0;34m(self)\u001b[0m\n\u001b[1;32m    242\u001b[0m                     \u001b[0mout\u001b[0m\u001b[0;34m.\u001b[0m\u001b[0mwrite\u001b[0m\u001b[0;34m(\u001b[0m\u001b[0mescape\u001b[0m\u001b[0;34m(\u001b[0m\u001b[0msafe_unicode\u001b[0m\u001b[0;34m(\u001b[0m\u001b[0mc\u001b[0m\u001b[0;34m)\u001b[0m\u001b[0;34m)\u001b[0m\u001b[0;34m)\u001b[0m\u001b[0;34m\u001b[0m\u001b[0;34m\u001b[0m\u001b[0m\n\u001b[1;32m    243\u001b[0m                 \u001b[0;32melse\u001b[0m\u001b[0;34m:\u001b[0m\u001b[0;34m\u001b[0m\u001b[0;34m\u001b[0m\u001b[0m\n\u001b[0;32m--> 244\u001b[0;31m                     \u001b[0mout\u001b[0m\u001b[0;34m.\u001b[0m\u001b[0mwrite\u001b[0m\u001b[0;34m(\u001b[0m\u001b[0mc\u001b[0m\u001b[0;34m.\u001b[0m\u001b[0m_repr_html_\u001b[0m\u001b[0;34m(\u001b[0m\u001b[0;34m)\u001b[0m\u001b[0;34m)\u001b[0m\u001b[0;34m\u001b[0m\u001b[0;34m\u001b[0m\u001b[0m\n\u001b[0m\u001b[1;32m    245\u001b[0m \u001b[0;34m\u001b[0m\u001b[0m\n\u001b[1;32m    246\u001b[0m             \u001b[0mout\u001b[0m\u001b[0;34m.\u001b[0m\u001b[0mwrite\u001b[0m\u001b[0;34m(\u001b[0m\u001b[0;34m'</{tag}>'\u001b[0m\u001b[0;34m.\u001b[0m\u001b[0mformat\u001b[0m\u001b[0;34m(\u001b[0m\u001b[0mtag\u001b[0m\u001b[0;34m=\u001b[0m\u001b[0mescape\u001b[0m\u001b[0;34m(\u001b[0m\u001b[0mself\u001b[0m\u001b[0;34m.\u001b[0m\u001b[0mtag_name\u001b[0m\u001b[0;34m)\u001b[0m\u001b[0;34m)\u001b[0m\u001b[0;34m)\u001b[0m\u001b[0;34m\u001b[0m\u001b[0;34m\u001b[0m\u001b[0m\n",
      "\u001b[0;31mAttributeError\u001b[0m: 'Counter' object has no attribute '_repr_html_'"
     ]
    },
    {
     "data": {
      "text/plain": [
       "<vdom.core.VDOM at 0x10e9553a8>"
      ]
     },
     "execution_count": 6,
     "metadata": {},
     "output_type": "execute_result"
    }
   ],
   "source": [
    "from vdom import div\n",
    "\n",
    "div([Counter(), Counter(), Counter()])"
   ]
  },
  {
   "cell_type": "markdown",
   "metadata": {},
   "source": [
    "## vdom vs. ipywidgets\n",
    "\n",
    "[the complexity of ipywidgets, creating an ipywidget in the notebook vs. a vdom object]"
   ]
  },
  {
   "cell_type": "code",
   "execution_count": 18,
   "metadata": {},
   "outputs": [
    {
     "data": {
      "application/vnd.jupyter.widget-view+json": {
       "model_id": "882f3879dd2b4f448343b283efed2f06",
       "version_major": 2,
       "version_minor": 0
      },
      "text/plain": [
       "Button(description='0', style=ButtonStyle())"
      ]
     },
     "metadata": {},
     "output_type": "display_data"
    }
   ],
   "source": [
    "import ipywidgets as widgets\n",
    "from IPython.display import display\n",
    "\n",
    "# Create a counter component with local state and event handler\n",
    "class Counter:\n",
    "    def __init__(self):\n",
    "        # Set the initial component state\n",
    "        self.count = 0\n",
    "        # Create a button widget that displays the count value\n",
    "        self.widget = widgets.Button(description=str(self.count))\n",
    "        # ...and increments the count on click\n",
    "        self.widget.on_click((self.handle_click))\n",
    "\n",
    "    def handle_click(self, widget):\n",
    "        # Increment the count value in the component state\n",
    "        self.count += 1\n",
    "        # Update the button description\n",
    "        self.widget.description = str(self.count)\n",
    "\n",
    "    def _ipython_display_(self):\n",
    "        # Inform ipython how to display this object\n",
    "        display(self.widget)\n",
    "\n",
    "Counter()"
   ]
  },
  {
   "cell_type": "markdown",
   "metadata": {},
   "source": [
    "### Advantages over ipywidgets\n",
    "\n",
    "- **Declarative:** asdf\n",
    "- **Composable**: Static text is very flexible and can be wrangled to accomplish just about anything, but unlike Python objects, it lacks interfaces, scope, and context which enable features like autocomplete, hover tips, and other feedback that make our jobs as coders so much more manageable. vdom objects, like React components, can be composed to create complex UIs.\n",
    "- **Compatibility with React**: "
   ]
  },
  {
   "cell_type": "markdown",
   "metadata": {},
   "source": [
    "## React components\n",
    "\n",
    "In addition to rendering native HTML elements, we can now render React components in vdom. This is possible thanks to ES modules landing in ECMAScript (Javascript) and in most browsers and [jspm.io](https://jspm.io/). Javascript now has first-class support for modules, so we can use the new import (`import MyModule from './my-module.js'`) and dynamic import (`import('./my-module.js').then(MyModule => { })`) syntax. jspm.io is a CDN service that serves packages from [npm](http://npmjs.com) and transforms them from CommonJS to ES module format. This allows us to dynamically import and use most npm packages in the browser. \n",
    "\n",
    "The vdom spec now accept a new property called `import`. Import expects a `package` property that is the npm package name and an optional `module` property that is the _named import_ from that package (defaults to `default`). \n",
    "\n",
    "Let's look at an example:"
   ]
  },
  {
   "cell_type": "markdown",
   "metadata": {},
   "source": [
    "The above button is not a native HTML button, it's a `Button` React component provided by @blueprintjs/core. When an `import` property is included, the `tagName` property (which is a string that refers to a native HTML tag name) is overriden by a React component.\n",
    "\n",
    "A few things to notice:\n",
    "\n",
    "* We have included a new `import` key in our vdom object\n",
    "* `import` allows the user to specify a React component to import and use in lieu of a native HTML element\n",
    "* In the above example, we are specifying an npm package (@blueprintjs/core) and named import or _module_ from that package (Button)\n",
    "* When an `import` key is provided, transform-vdom dynamically imports the specified module from npm (jspm.io) and replaces the vdom component's `tagName` property with the imported React component.\n",
    "\n",
    "Next, let's create a convenient function that will allow us to import React components and use them like we would any other vdom component. Let's call this function `import_component` and let's model it after vdom's own `create_component`:"
   ]
  },
  {
   "cell_type": "markdown",
   "metadata": {},
   "source": [
    "[using React elements in vdom was not possible]\n",
    "\n",
    "[using React elements in vdom using modules]"
   ]
  }
 ],
 "metadata": {
  "kernelspec": {
   "display_name": "Python 3",
   "language": "python",
   "name": "python3"
  },
  "language_info": {
   "codemirror_mode": {
    "name": "ipython",
    "version": 3
   },
   "file_extension": ".py",
   "mimetype": "text/x-python",
   "name": "python",
   "nbconvert_exporter": "python",
   "pygments_lexer": "ipython3",
   "version": "3.6.7"
  }
 },
 "nbformat": 4,
 "nbformat_minor": 2
}
